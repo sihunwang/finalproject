{
 "cells": [
  {
   "cell_type": "markdown",
   "id": "b1f0c8cc-eb37-4c3d-be08-bd1d7ece2344",
   "metadata": {},
   "source": [
    "# Identify a dataset"
   ]
  },
  {
   "cell_type": "markdown",
   "id": "511baf82-dae7-4667-9fc6-38d102ea679d",
   "metadata": {},
   "source": [
    "## Dataset Info\n",
    "\n",
    "Name of dataset: Liver Disorders\n",
    "\n",
    "Dataset link: https://doi.org/10.24432/C54G67\n",
    "\n",
    "Dataset download: https://archive.ics.uci.edu/dataset/60/liver+disorders\n",
    "* I encourage you to click \"IMPORT IN PYTHON\" which tells how to import the dataset\n",
    "\n",
    "License: UC Irvine Machine Learning Repository is freely and openly available in public. There is no cost to access the data.\n",
    "\n",
    "Size: liver+disorders is 11,625 bytes with 5 subfiles"
   ]
  },
  {
   "cell_type": "markdown",
   "id": "9f809a13-19c6-4bc8-a4ea-fcf678d05f31",
   "metadata": {},
   "source": [
    "## Characteristics of this dataset:\n",
    "\n",
    "The BUPA liver disorders is created from BUPA Medical Research Ltd., donored by Richard S. Forsyth in 5/15/1990. The first 5 variables are blood features from the  blood tests which are thought to be sensitive to liver disorders that might arise from excessive alcohol consumption.  Each line in the bupa.data file constitutes the record of a single male individual. There are total 345 individuals having 345 rows, with 5 blood features and 1 alchol consumtion having 6 columns without missing values. \n",
    "\n",
    "In detail, the attribute information:\n",
    "   1. mcv:\tmean corpuscular volume\n",
    "   2. alkphos:\talkaline phosphotase\n",
    "   3. sgpt:\talamine aminotransferase\n",
    "   4. sgot: \taspartate aminotransferase\n",
    "   5. gammagt:\tgamma-glutamyl transpeptidase\n",
    "   6. drinks:\tnumber of half-pint equivalents of alcoholic beverages drunk per day"
   ]
  },
  {
   "cell_type": "code",
   "execution_count": 22,
   "id": "d3f05e01-c609-43dc-9c40-3b97ca4c52c8",
   "metadata": {},
   "outputs": [],
   "source": [
    "import seaborn as sns\n",
    "import matplotlib.pyplot as plt\n",
    "import pandas as pd\n",
    "import json\n",
    "import numpy as np\n",
    "import random\n",
    "from functools import reduce\n",
    "from ast import literal_eval\n",
    "import matplotlib.pyplot as plt\n",
    "from matplotlib.colors import Normalize"
   ]
  },
  {
   "cell_type": "markdown",
   "id": "8de260d4-928d-435f-b895-c7d3ce58adea",
   "metadata": {},
   "source": [
    "# Explore the dataset\n",
    "* **Things that did not work**\n",
    "\n",
    "Downloading the dataset was challenging. Initially, I tried to download the file. However, based on several approaches, I found a way to fetch and import the dataset using the code from the UC Irvine Repository. "
   ]
  },
  {
   "cell_type": "markdown",
   "id": "e04aaf84-9206-4aac-a5ed-3d86fe8807bc",
   "metadata": {},
   "source": [
    "* **Things that work**"
   ]
  },
  {
   "cell_type": "code",
   "execution_count": 23,
   "id": "60cd1296-d573-45cd-b1ba-6bd11295a181",
   "metadata": {},
   "outputs": [
    {
     "name": "stdout",
     "output_type": "stream",
     "text": [
      "{'uci_id': 60, 'name': 'Liver Disorders', 'repository_url': 'https://archive.ics.uci.edu/dataset/60/liver+disorders', 'data_url': 'https://archive.ics.uci.edu/static/public/60/data.csv', 'abstract': 'BUPA Medical Research Ltd. database donated by Richard S. Forsyth', 'area': 'Health and Medicine', 'tasks': ['Regression'], 'characteristics': ['Multivariate'], 'num_instances': 345, 'num_features': 5, 'feature_types': ['Categorical', 'Integer', 'Real'], 'demographics': [], 'target_col': ['drinks'], 'index_col': None, 'has_missing_values': 'no', 'missing_values_symbol': None, 'year_of_dataset_creation': 2016, 'last_updated': 'Fri Nov 03 2023', 'dataset_doi': '10.24432/C54G67', 'creators': [], 'intro_paper': None, 'additional_info': {'summary': 'The first 5 variables are all blood tests which are thought to be sensitive to liver disorders that might arise from excessive alcohol consumption. Each line in the dataset constitutes the record of a single male individual.\\n\\nImportant note: The 7th field (selector) has been widely misinterpreted in the past as a dependent variable representing presence or absence of a liver disorder. This is incorrect [1]. The 7th field was created by BUPA researchers as a train/test selector. It is not suitable as a dependent variable for classification. The dataset does not contain any variable representing presence or absence of a liver disorder. Researchers who wish to use this dataset as a classification benchmark should follow the method used in experiments by the donor (Forsyth & Rada, 1986, Machine learning: applications in expert systems and information retrieval) and others (e.g. Turney, 1995, Cost-sensitive classification: Empirical evaluation of a hybrid genetic decision tree induction algorithm), who used the 6th field (drinks), after dichotomising, as a dependent variable for classification. Because of widespread misinterpretation in the past, researchers should take care to state their method clearly.\\n', 'purpose': None, 'funded_by': None, 'instances_represent': None, 'recommended_data_splits': None, 'sensitive_data': None, 'preprocessing_description': None, 'variable_info': '1. mcv mean corpuscular volume\\n2. alkphos alkaline phosphotase\\n3. sgpt alanine aminotransferase\\n4. sgot aspartate aminotransferase\\n5. gammagt gamma-glutamyl transpeptidase\\n6. drinks number of half-pint equivalents of alcoholic beverages drunk per day\\n7. selector field created by the BUPA researchers to split the data into train/test sets', 'citation': None}}\n",
      "       name     role         type demographic  \\\n",
      "0       mcv  Feature   Continuous        None   \n",
      "1   alkphos  Feature   Continuous        None   \n",
      "2      sgpt  Feature   Continuous        None   \n",
      "3      sgot  Feature   Continuous        None   \n",
      "4   gammagt  Feature   Continuous        None   \n",
      "5    drinks   Target   Continuous        None   \n",
      "6  selector    Other  Categorical        None   \n",
      "\n",
      "                                         description units missing_values  \n",
      "0                            mean corpuscular volume  None             no  \n",
      "1                               alkaline phosphotase  None             no  \n",
      "2                           alanine aminotransferase  None             no  \n",
      "3                         aspartate aminotransferase  None             no  \n",
      "4                      gamma-glutamyl transpeptidase  None             no  \n",
      "5  number of half-pint equivalents of alcoholic b...  None             no  \n",
      "6  field created by the BUPA researchers to split...  None             no  \n",
      "No missing values in the DataFrame.\n"
     ]
    },
    {
     "data": {
      "text/html": [
       "<div>\n",
       "<style scoped>\n",
       "    .dataframe tbody tr th:only-of-type {\n",
       "        vertical-align: middle;\n",
       "    }\n",
       "\n",
       "    .dataframe tbody tr th {\n",
       "        vertical-align: top;\n",
       "    }\n",
       "\n",
       "    .dataframe thead th {\n",
       "        text-align: right;\n",
       "    }\n",
       "</style>\n",
       "<table border=\"1\" class=\"dataframe\">\n",
       "  <thead>\n",
       "    <tr style=\"text-align: right;\">\n",
       "      <th></th>\n",
       "      <th>mcv</th>\n",
       "      <th>alkphos</th>\n",
       "      <th>sgpt</th>\n",
       "      <th>sgot</th>\n",
       "      <th>gammagt</th>\n",
       "      <th>drinks</th>\n",
       "    </tr>\n",
       "  </thead>\n",
       "  <tbody>\n",
       "    <tr>\n",
       "      <th>0</th>\n",
       "      <td>85</td>\n",
       "      <td>92</td>\n",
       "      <td>45</td>\n",
       "      <td>27</td>\n",
       "      <td>31</td>\n",
       "      <td>0.0</td>\n",
       "    </tr>\n",
       "    <tr>\n",
       "      <th>1</th>\n",
       "      <td>85</td>\n",
       "      <td>64</td>\n",
       "      <td>59</td>\n",
       "      <td>32</td>\n",
       "      <td>23</td>\n",
       "      <td>0.0</td>\n",
       "    </tr>\n",
       "    <tr>\n",
       "      <th>2</th>\n",
       "      <td>86</td>\n",
       "      <td>54</td>\n",
       "      <td>33</td>\n",
       "      <td>16</td>\n",
       "      <td>54</td>\n",
       "      <td>0.0</td>\n",
       "    </tr>\n",
       "    <tr>\n",
       "      <th>3</th>\n",
       "      <td>91</td>\n",
       "      <td>78</td>\n",
       "      <td>34</td>\n",
       "      <td>24</td>\n",
       "      <td>36</td>\n",
       "      <td>0.0</td>\n",
       "    </tr>\n",
       "    <tr>\n",
       "      <th>4</th>\n",
       "      <td>87</td>\n",
       "      <td>70</td>\n",
       "      <td>12</td>\n",
       "      <td>28</td>\n",
       "      <td>10</td>\n",
       "      <td>0.0</td>\n",
       "    </tr>\n",
       "    <tr>\n",
       "      <th>...</th>\n",
       "      <td>...</td>\n",
       "      <td>...</td>\n",
       "      <td>...</td>\n",
       "      <td>...</td>\n",
       "      <td>...</td>\n",
       "      <td>...</td>\n",
       "    </tr>\n",
       "    <tr>\n",
       "      <th>340</th>\n",
       "      <td>99</td>\n",
       "      <td>75</td>\n",
       "      <td>26</td>\n",
       "      <td>24</td>\n",
       "      <td>41</td>\n",
       "      <td>12.0</td>\n",
       "    </tr>\n",
       "    <tr>\n",
       "      <th>341</th>\n",
       "      <td>96</td>\n",
       "      <td>69</td>\n",
       "      <td>53</td>\n",
       "      <td>43</td>\n",
       "      <td>203</td>\n",
       "      <td>12.0</td>\n",
       "    </tr>\n",
       "    <tr>\n",
       "      <th>342</th>\n",
       "      <td>98</td>\n",
       "      <td>77</td>\n",
       "      <td>55</td>\n",
       "      <td>35</td>\n",
       "      <td>89</td>\n",
       "      <td>15.0</td>\n",
       "    </tr>\n",
       "    <tr>\n",
       "      <th>343</th>\n",
       "      <td>91</td>\n",
       "      <td>68</td>\n",
       "      <td>27</td>\n",
       "      <td>26</td>\n",
       "      <td>14</td>\n",
       "      <td>16.0</td>\n",
       "    </tr>\n",
       "    <tr>\n",
       "      <th>344</th>\n",
       "      <td>98</td>\n",
       "      <td>99</td>\n",
       "      <td>57</td>\n",
       "      <td>45</td>\n",
       "      <td>65</td>\n",
       "      <td>20.0</td>\n",
       "    </tr>\n",
       "  </tbody>\n",
       "</table>\n",
       "<p>345 rows × 6 columns</p>\n",
       "</div>"
      ],
      "text/plain": [
       "     mcv  alkphos  sgpt  sgot  gammagt  drinks\n",
       "0     85       92    45    27       31     0.0\n",
       "1     85       64    59    32       23     0.0\n",
       "2     86       54    33    16       54     0.0\n",
       "3     91       78    34    24       36     0.0\n",
       "4     87       70    12    28       10     0.0\n",
       "..   ...      ...   ...   ...      ...     ...\n",
       "340   99       75    26    24       41    12.0\n",
       "341   96       69    53    43      203    12.0\n",
       "342   98       77    55    35       89    15.0\n",
       "343   91       68    27    26       14    16.0\n",
       "344   98       99    57    45       65    20.0\n",
       "\n",
       "[345 rows x 6 columns]"
      ]
     },
     "execution_count": 23,
     "metadata": {},
     "output_type": "execute_result"
    }
   ],
   "source": [
    "#reference: https://doi.org/10.24432/C54G67 \n",
    "#terminal install required\n",
    "#pip install ucimlrepo\n",
    "from ucimlrepo import fetch_ucirepo \n",
    "  \n",
    "# fetch dataset \n",
    "df = fetch_ucirepo(id=60) \n",
    "  \n",
    "# data (as pandas dataframes) \n",
    "feature = df.data.features \n",
    "target = df.data.targets \n",
    "  \n",
    "# metadata \n",
    "print(df.metadata) \n",
    "  \n",
    "# variable information \n",
    "print(df.variables) \n",
    "\n",
    "# Combine features and targets into a single DataFrame\n",
    "df = pd.concat([feature, target], axis=1)\n",
    "\n",
    "# Check for missing values in the entire DataFrame\n",
    "if df.isnull().any().any():\n",
    "    print(\"There are missing values in the DataFrame.\")\n",
    "else:\n",
    "    print(\"No missing values in the DataFrame.\")\n",
    "\n",
    "# Display the DataFrame\n",
    "df"
   ]
  },
  {
   "cell_type": "code",
   "execution_count": 24,
   "id": "f6b29da8-84ff-4c73-b7f1-67efa0349b5f",
   "metadata": {},
   "outputs": [
    {
     "name": "stdout",
     "output_type": "stream",
     "text": [
      "Number of columns:  6\n",
      "Number of rows:  345\n",
      "Number of data points in the DataFrame:  2070\n",
      "No missing values in the DataFrame.\n"
     ]
    }
   ],
   "source": [
    "print(\"Number of columns: \",len(df.columns))\n",
    "print(\"Number of rows: \",df.shape[0])\n",
    "print(f\"Number of data points in the DataFrame: \", len(df.columns) * df.shape[0])\n",
    "\n",
    "# Check for missing values in the entire DataFrame\n",
    "if df.isnull().any().any():\n",
    "    print(\"There are missing values in the DataFrame.\")\n",
    "else:\n",
    "    print(\"No missing values in the DataFrame.\")"
   ]
  },
  {
   "cell_type": "code",
   "execution_count": 25,
   "id": "10483e20-b24f-4cde-99dc-870efb3bdb1b",
   "metadata": {},
   "outputs": [
    {
     "data": {
      "text/plain": [
       "<Axes: ylabel='Frequency'>"
      ]
     },
     "execution_count": 25,
     "metadata": {},
     "output_type": "execute_result"
    },
    {
     "data": {
      "image/png": "[encoded data removed]",
      "text/plain": [
       "<Figure size 640x480 with 1 Axes>"
      ]
     },
     "metadata": {},
     "output_type": "display_data"
    }
   ],
   "source": [
    "df.drinks.plot.hist()"
   ]
  },
  {
   "cell_type": "markdown",
   "id": "3359d9f6-e44f-4cf8-86aa-94e6df237871",
   "metadata": {},
   "source": [
    "The histogram of drinks column indicates that this dataset contains individuals who tend to drink less more than individuals who tend to drink more. From the histogram, I could interpret that the less individuals drink, the more records we have, and observation is not evenly distributed."
   ]
  },
  {
   "cell_type": "code",
   "execution_count": 26,
   "id": "5d5346a0-806c-4ee7-9278-a26873c9543f",
   "metadata": {},
   "outputs": [
    {
     "data": {
      "image/png": "[encoded data removed]",
      "text/plain": [
       "<Figure size 800x600 with 2 Axes>"
      ]
     },
     "metadata": {},
     "output_type": "display_data"
    }
   ],
   "source": [
    "import matplotlib.pyplot as plt\n",
    "\n",
    "correlation_matrix = df.corr()\n",
    "plt.figure(figsize=(8, 6))\n",
    "plt.imshow(correlation_matrix, cmap='coolwarm', interpolation='none')\n",
    "plt.colorbar()\n",
    "plt.xticks(range(len(correlation_matrix)), correlation_matrix.columns, rotation=90)\n",
    "plt.yticks(range(len(correlation_matrix)), correlation_matrix.columns)\n",
    "plt.title('Relation Heatmap')\n",
    "plt.show()"
   ]
  },
  {
   "cell_type": "markdown",
   "id": "180a7187-f34f-423b-91ef-0ab1efb5934e",
   "metadata": {},
   "source": [
    "The correlation heat map shows correlations by color difference. In this map, it has a higher correlation when it tends to have a red color, and a lower correlation when it tends to have a blue color.\n",
    "\n",
    "From the heat map, I could see that most of the data have blue squares meaning the variables have very little relationship, especially lack of linear relationships with others. Although I can see that the sgot and sgpt showing pink squares which indicates a possible linear relationship."
   ]
  },
  {
   "cell_type": "code",
   "execution_count": 27,
   "id": "d0b8c5bb-563a-4cf3-a035-6bf7982afb53",
   "metadata": {},
   "outputs": [
    {
     "data": {
      "image/png": "[encoded data removed]",
      "text/plain": [
       "<Figure size 1000x600 with 1 Axes>"
      ]
     },
     "metadata": {},
     "output_type": "display_data"
    }
   ],
   "source": [
    "# Boxplots\n",
    "plt.figure(figsize=(10, 6))\n",
    "sns.boxplot(x='drinks', y='mcv', data=df)\n",
    "plt.title('Boxplot of mcv by drinks')\n",
    "plt.show()"
   ]
  },
  {
   "cell_type": "markdown",
   "id": "254149b8-1d8f-434d-b454-fb8453adf635",
   "metadata": {},
   "source": [
    "The heat map shows general range of the mcv dataset by the number of the drinks. From the dataset above, we can see that as the number of the drinks increase, the mcv increase, meaning that volume of corpuscular tends to increase."
   ]
  },
  {
   "cell_type": "code",
   "execution_count": null,
   "id": "1c9a966e-cbf3-44d2-b38c-b87bcc2309e6",
   "metadata": {},
   "outputs": [],
   "source": []
  }
 ],
 "metadata": {
  "kernelspec": {
   "display_name": "Python 3 (ipykernel)",
   "language": "python",
   "name": "python3"
  },
  "language_info": {
   "codemirror_mode": {
    "name": "ipython",
    "version": 3
   },
   "file_extension": ".py",
   "mimetype": "text/x-python",
   "name": "python",
   "nbconvert_exporter": "python",
   "pygments_lexer": "ipython3",
   "version": "3.11.5"
  }
 },
 "nbformat": 4,
 "nbformat_minor": 5
}
